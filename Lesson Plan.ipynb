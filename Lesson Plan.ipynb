{
 "cells": [
  {
   "cell_type": "markdown",
   "metadata": {},
   "source": [
    "## The problem we want to solve\n",
    "### test if a 5-card hand is a specific thing, e.g. Straight Flush, or maybe Full House\n",
    "### classify a 5-card hand\n",
    "### compare two different 5-card hands: which is better?\n",
    "### pick the best 5-card hand from seven cards\n",
    "\n",
    "\n",
    "## Anaconda\n",
    "### Jupyter Notebooks\n",
    "\n",
    "## Python Basics\n",
    "### An explanation of whitespace\n",
    "\n",
    "### Syntax\n",
    "\n",
    "#### Blocks\n",
    "#### if, elif, else\n",
    "#### for in\n",
    "#### while\n",
    "#### import\n",
    "#### print\n",
    "#### mention classes\n",
    "\n",
    "### Simple Data-Structures\n",
    "#### Tuple\n",
    "#### List\n",
    "#### String\n",
    "#### Set\n",
    "#### Dictionary\n",
    "\n",
    "## Test-Driven Design (TDD)\n",
    "### The magic to get unittest to work in a Jupyter Notebook\n",
    "### Tests call implementations into existence"
   ]
  },
  {
   "cell_type": "code",
   "execution_count": null,
   "metadata": {
    "collapsed": true
   },
   "outputs": [],
   "source": []
  }
 ],
 "metadata": {
  "kernelspec": {
   "display_name": "Python 3",
   "language": "python",
   "name": "python3"
  },
  "language_info": {
   "codemirror_mode": {
    "name": "ipython",
    "version": 3
   },
   "file_extension": ".py",
   "mimetype": "text/x-python",
   "name": "python",
   "nbconvert_exporter": "python",
   "pygments_lexer": "ipython3",
   "version": "3.6.0"
  }
 },
 "nbformat": 4,
 "nbformat_minor": 1
}

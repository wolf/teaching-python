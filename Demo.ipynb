{
 "cells": [
  {
   "cell_type": "code",
   "execution_count": 19,
   "metadata": {
    "collapsed": true
   },
   "outputs": [],
   "source": [
    "import itertools\n",
    "\n",
    "from thoughts import *\n",
    "\n",
    "def choose_best_hand_including_hole(community_cards, hole_cards):\n",
    "    best_rating = None\n",
    "    hole_cards = set(hole_cards)\n",
    "    for hand in itertools.combinations(set(community_cards)|hole_cards, 5):\n",
    "        if set(hand) & hole_cards:\n",
    "            rating = characterize_hand(hand)\n",
    "            if best_rating is None or rating > best_rating:\n",
    "                best_rating = rating\n",
    "                best_hand = hand\n",
    "    return best_hand"
   ]
  },
  {
   "cell_type": "code",
   "execution_count": 20,
   "metadata": {
    "collapsed": false
   },
   "outputs": [
    {
     "name": "stdout",
     "output_type": "stream",
     "text": [
      "34 hands dealt before we got:\t8♣, 10♠, 10♣, 10♢, 10♡ Four of a Kind\n",
      "607 hands dealt before we got:\tA♣, 2♣, 3♣, 4♣, 5♣ Straight Flush\n",
      "252 hands dealt before we got:\t4♡, 4♠, 4♢, 4♣, K♡ Four of a Kind\n",
      "548 hands dealt before we got:\t2♡, 2♠, 2♣, 2♢, A♣ Four of a Kind\n",
      "602 hands dealt before we got:\t7♣, 7♠, 7♢, 7♡, J♣ Four of a Kind\n",
      "199 hands dealt before we got:\t3♠, 10♠, 10♣, 10♢, 10♡ Four of a Kind\n",
      "835 hands dealt before we got:\t9♢, A♢, A♡, A♣, A♠ Four of a Kind\n",
      "200 hands dealt before we got:\t5♢, 6♢, 7♢, 8♢, 9♢ Straight Flush\n",
      "1290 hands dealt before we got:\t9♣, K♡, K♣, K♢, K♠ Four of a Kind\n",
      "130 hands dealt before we got:\t4♡, 4♠, 4♢, 4♣, 9♢ Four of a Kind\n",
      "73 hands dealt before we got:\t7♣, 8♣, 8♡, 8♢, 8♠ Four of a Kind\n",
      "263 hands dealt before we got:\t3♡, 5♣, 5♠, 5♢, 5♡ Four of a Kind\n",
      "191 hands dealt before we got:\t6♡, 6♢, 6♠, 6♣, 10♣ Four of a Kind\n",
      "102 hands dealt before we got:\t7♣, 7♠, 7♢, 7♡, A♢ Four of a Kind\n",
      "88 hands dealt before we got:\t5♣, 10♠, 10♣, 10♢, 10♡ Four of a Kind\n",
      "211 hands dealt before we got:\t10♠, 10♣, 10♢, 10♡, J♣ Four of a Kind\n",
      "125 hands dealt before we got:\t2♠, 3♠, 4♠, 5♠, 6♠ Straight Flush\n",
      "310 hands dealt before we got:\t6♣, 7♣, 8♣, 9♣, 10♣ Straight Flush\n",
      "39 hands dealt before we got:\t2♡, 2♠, 2♣, 2♢, 5♠ Four of a Kind\n",
      "751 hands dealt before we got:\t6♢, 8♣, 8♡, 8♢, 8♠ Four of a Kind\n",
      "410 hands dealt before we got:\t5♣, 5♠, 5♢, 5♡, A♢ Four of a Kind\n",
      "57 hands dealt before we got:\tJ♢, A♢, A♡, A♣, A♠ Four of a Kind\n",
      "810 hands dealt before we got:\t5♢, 9♣, 9♢, 9♠, 9♡ Four of a Kind\n",
      "610 hands dealt before we got:\t5♣, 6♣, 7♣, 8♣, 9♣ Straight Flush\n",
      "117 hands dealt before we got:\t5♣, 5♠, 5♢, 5♡, Q♠ Four of a Kind\n",
      "591 hands dealt before we got:\t7♣, 7♠, 7♢, 7♡, J♢ Four of a Kind\n",
      "56 hands dealt before we got:\t3♢, 4♢, 5♢, 6♢, 7♢ Straight Flush\n",
      "51 hands dealt before we got:\tJ♠, J♣, J♢, J♡, A♡ Four of a Kind\n",
      "52 hands dealt before we got:\t2♡, 2♠, 2♣, 2♢, Q♠ Four of a Kind\n",
      "214 hands dealt before we got:\t9♢, K♡, K♣, K♢, K♠ Four of a Kind\n",
      "Total hands dealt: 10000\n",
      "Best hand:  6♣, 7♣, 8♣, 9♣, 10♣ Straight Flush\n"
     ]
    }
   ],
   "source": [
    "d0 = create_deck()\n",
    "\n",
    "best_hand = None\n",
    "index_of_last_hand_printed = 0\n",
    "for total_hands in range(10000):\n",
    "    d0 = shuffled(d0)\n",
    "    \n",
    "    # deal seven cards\n",
    "    cards = d0[:7]\n",
    "    # ...and choose the best five-card hand from among those seven\n",
    "    hand = choose_best_hand_including_hole(cards[:5], cards[-2:])\n",
    "    # hand = d0[:5]\n",
    "    \n",
    "    c = characterize_hand(hand)\n",
    "    # print the hand if it's four of a kind or better\n",
    "    if c[0] >= PokerHands.FOUR_OF_A_KIND:\n",
    "        hands_skipped = total_hands - index_of_last_hand_printed\n",
    "        if hands_skipped:\n",
    "            print(\"{} hands dealt before we got:\\t\".format(hands_skipped), end=\"\")\n",
    "        print(hand_to_str(hand), str(c[0]))\n",
    "        index_of_last_hand_printed = total_hands\n",
    "    \n",
    "    # keep track of the best hand we've seen\n",
    "    if best_hand is None or c > best_hand:\n",
    "        best_hand = c\n",
    "        best_hand_cards = hand\n",
    "\n",
    "print(\"Total hands dealt:\", total_hands+1)\n",
    "print(\"Best hand: \", hand_to_str(best_hand_cards), str(best_hand[0]))"
   ]
  },
  {
   "cell_type": "code",
   "execution_count": null,
   "metadata": {
    "collapsed": true
   },
   "outputs": [],
   "source": []
  }
 ],
 "metadata": {
  "anaconda-cloud": {},
  "kernelspec": {
   "display_name": "Python 3",
   "language": "python",
   "name": "python3"
  },
  "language_info": {
   "codemirror_mode": {
    "name": "ipython",
    "version": 3
   },
   "file_extension": ".py",
   "mimetype": "text/x-python",
   "name": "python",
   "nbconvert_exporter": "python",
   "pygments_lexer": "ipython3",
   "version": "3.6.0"
  }
 },
 "nbformat": 4,
 "nbformat_minor": 1
}

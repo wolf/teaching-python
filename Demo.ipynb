{
 "cells": [
  {
   "cell_type": "code",
   "execution_count": 10,
   "metadata": {
    "collapsed": false
   },
   "outputs": [
    {
     "name": "stdout",
     "output_type": "stream",
     "text": [
      "431 hands dealt before we got:\t5♡, 7♣, 7♢, 7♡, 7♠ Four of a Kind\n",
      "1707 hands dealt before we got:\t5♢, 6♢, 7♢, 8♢, 9♢ Straight Flush\n",
      "263 hands dealt before we got:\t8♢, J♡, J♠, J♢, J♣ Four of a Kind\n",
      "773 hands dealt before we got:\t3♢, 3♣, 3♠, 3♡, 8♠ Four of a Kind\n",
      "20 hands dealt before we got:\t2♡, 2♣, 2♢, 2♠, 6♠ Four of a Kind\n",
      "409 hands dealt before we got:\t3♣, 3♡, 3♠, 3♢, 10♢ Four of a Kind\n",
      "1363 hands dealt before we got:\t6♢, 6♣, 6♠, 6♡, J♣ Four of a Kind\n",
      "566 hands dealt before we got:\t4♡, A♠, A♢, A♣, A♡ Four of a Kind\n",
      "647 hands dealt before we got:\t2♢, 2♡, 2♠, 2♣, J♢ Four of a Kind\n",
      "1991 hands dealt before we got:\tA♢, 2♢, 3♢, 4♢, 5♢ Straight Flush\n",
      "106 hands dealt before we got:\t2♠, 2♣, 2♢, 2♡, 3♣ Four of a Kind\n",
      "452 hands dealt before we got:\t7♡, Q♣, Q♠, Q♡, Q♢ Four of a Kind\n",
      "597 hands dealt before we got:\t3♣, 9♠, 9♣, 9♢, 9♡ Four of a Kind\n",
      "104 hands dealt before we got:\t9♡, Q♣, Q♠, Q♢, Q♡ Four of a Kind\n",
      "22 hands dealt before we got:\t4♠, K♠, K♣, K♡, K♢ Four of a Kind\n",
      "404 hands dealt before we got:\t3♣, 4♣, 5♣, 6♣, 7♣ Straight Flush\n",
      "104 hands dealt before we got:\t8♣, 8♡, 8♢, 8♠, J♣ Four of a Kind\n",
      "Total hands dealt: 10000\n",
      "Best hand:  5♢, 6♢, 7♢, 8♢, 9♢ Straight Flush\n"
     ]
    }
   ],
   "source": [
    "from thoughts import *\n",
    "\n",
    "d0 = create_deck()\n",
    "\n",
    "best_hand = None\n",
    "index_of_last_hand_printed = 0\n",
    "for total_hands in range(10000):\n",
    "    d0 = shuffled(d0)\n",
    "    \n",
    "    # deal seven cards\n",
    "    cards = d0[:7]\n",
    "    # ...and choose the best five-card hand from among those seven\n",
    "    hand = choose_best_hand(cards)\n",
    "\n",
    "    c = characterize_hand(hand)\n",
    "    # print the hand if it's four of a kind or better\n",
    "    if c[0] >= PokerHands.FOUR_OF_A_KIND:\n",
    "        hands_skipped = total_hands - index_of_last_hand_printed\n",
    "        if hands_skipped:\n",
    "            print(\"{} hands dealt before we got:\\t\".format(hands_skipped), end=\"\")\n",
    "        print(hand_to_str(hand), str(c[0]))\n",
    "        index_of_last_hand_printed = total_hands\n",
    "    \n",
    "    # keep track of the best hand we've seen\n",
    "    if best_hand is None or c > best_hand:\n",
    "        best_hand = c\n",
    "        best_hand_cards = hand\n",
    "\n",
    "print(\"Total hands dealt:\", total_hands+1)\n",
    "print(\"Best hand: \", hand_to_str(best_hand_cards), str(best_hand[0]))"
   ]
  },
  {
   "cell_type": "code",
   "execution_count": null,
   "metadata": {
    "collapsed": true
   },
   "outputs": [],
   "source": []
  }
 ],
 "metadata": {
  "kernelspec": {
   "display_name": "Python 3",
   "language": "python",
   "name": "python3"
  },
  "language_info": {
   "codemirror_mode": {
    "name": "ipython",
    "version": 3
   },
   "file_extension": ".py",
   "mimetype": "text/x-python",
   "name": "python",
   "nbconvert_exporter": "python",
   "pygments_lexer": "ipython3",
   "version": "3.5.2"
  }
 },
 "nbformat": 4,
 "nbformat_minor": 1
}

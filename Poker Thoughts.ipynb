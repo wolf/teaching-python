{
 "cells": [
  {
   "cell_type": "code",
   "execution_count": 1,
   "metadata": {
    "collapsed": false
   },
   "outputs": [
    {
     "name": "stdout",
     "output_type": "stream",
     "text": [
      "3.5.2 |Anaconda 4.2.0 (64-bit)| (default, Jul  5 2016, 11:41:13) [MSC v.1900 64 bit (AMD64)]\n"
     ]
    }
   ],
   "source": [
    "import sys\n",
    "print(sys.version)"
   ]
  },
  {
   "cell_type": "code",
   "execution_count": 20,
   "metadata": {
    "collapsed": true
   },
   "outputs": [],
   "source": [
    "from collections import namedtuple\n",
    "import random\n",
    "\n",
    "SPADES = \"♠\" # \"\\U00002660\"\n",
    "HEARTS = \"♡\" # \"\\U00002661\"\n",
    "CLUBS = \"♣\" # \"\\U00002663\"\n",
    "DIAMONDS = \"♢\" # \"\\U00002662\"\n",
    "\n",
    "Card = namedtuple(\"Card\", [\"rank\", \"suit\"])\n",
    "\n",
    "def make_deck():\n",
    "    return [Card(rank, suit) for suit in [SPADES, HEARTS, CLUBS, DIAMONDS]\n",
    "                             for rank in ['A', 2, 3, 4, 5, 6, 7, 8, 9, 10, 'J', 'Q', 'K']]\n",
    "\n",
    "def shuffled(deck):\n",
    "    return random.sample(deck, len(deck))"
   ]
  },
  {
   "cell_type": "code",
   "execution_count": 13,
   "metadata": {
    "collapsed": false
   },
   "outputs": [
    {
     "name": "stderr",
     "output_type": "stream",
     "text": [
      ".\n",
      "----------------------------------------------------------------------\n",
      "Ran 1 test in 0.001s\n",
      "\n",
      "OK\n"
     ]
    },
    {
     "data": {
      "text/plain": [
       "<unittest.runner.TextTestResult run=1 errors=0 failures=0>"
      ]
     },
     "execution_count": 13,
     "metadata": {},
     "output_type": "execute_result"
    }
   ],
   "source": [
    "import unittest\n",
    "\n",
    "class TestCards(unittest.TestCase):\n",
    "    def setUp(self):\n",
    "        self.deck = shuffled(make_deck())\n",
    "\n",
    "    def test_deck(self):\n",
    "        self.assertEqual(len(self.deck), 52)\n",
    "\n",
    "m = TestCards()\n",
    "suite = unittest.TestLoader().loadTestsFromModule(m)\n",
    "unittest.TextTestRunner().run(suite)"
   ]
  },
  {
   "cell_type": "code",
   "execution_count": 21,
   "metadata": {
    "collapsed": false
   },
   "outputs": [],
   "source": [
    "d0 = shuffled(make_deck())"
   ]
  },
  {
   "cell_type": "code",
   "execution_count": 23,
   "metadata": {
    "collapsed": false
   },
   "outputs": [
    {
     "name": "stdout",
     "output_type": "stream",
     "text": [
      "[Card(rank='K', suit='♡'), Card(rank=2, suit='♢'), Card(rank=4, suit='♠'), Card(rank='Q', suit='♠'), Card(rank='Q', suit='♣')]\n",
      "[Card(rank=6, suit='♡'), Card(rank=8, suit='♠'), Card(rank=8, suit='♣'), Card(rank=4, suit='♣'), Card(rank=7, suit='♣')]\n",
      "[Card(rank='J', suit='♣'), Card(rank='Q', suit='♡'), Card(rank=2, suit='♡'), Card(rank=3, suit='♣'), Card(rank='A', suit='♡')]\n"
     ]
    }
   ],
   "source": [
    "numberOfHands = 3\n",
    "sizeOfHand = 5\n",
    "\n",
    "limit = numberOfHands * sizeOfHand\n",
    "stride = numberOfHands\n",
    "\n",
    "h0 = d0[:limit:stride]\n",
    "h1 = d0[1:limit:stride]\n",
    "h2 = d0[2:limit:stride]\n",
    "\n",
    "print(h0)\n",
    "print(h1)\n",
    "print(h2)\n"
   ]
  },
  {
   "cell_type": "code",
   "execution_count": 68,
   "metadata": {
    "collapsed": false
   },
   "outputs": [
    {
     "name": "stdout",
     "output_type": "stream",
     "text": [
      "7Hello6Hello3Hello5Hello7Hello"
     ]
    }
   ],
   "source": [
    "from random import choice\n",
    "\n",
    "for i in range(5):\n",
    "    print(choice([2, 3, 4, 5, 6, 7]), \"Hello\", sep=\"\", end=\"\")"
   ]
  },
  {
   "cell_type": "code",
   "execution_count": 53,
   "metadata": {
    "collapsed": false
   },
   "outputs": [
    {
     "name": "stdout",
     "output_type": "stream",
     "text": [
      "Help on built-in function print in module builtins:\n",
      "\n",
      "print(...)\n",
      "    print(value, ..., sep=' ', end='\\n', file=sys.stdout, flush=False)\n",
      "    \n",
      "    Prints the values to a stream, or to sys.stdout by default.\n",
      "    Optional keyword arguments:\n",
      "    file:  a file-like object (stream); defaults to the current sys.stdout.\n",
      "    sep:   string inserted between values, default a space.\n",
      "    end:   string appended after the last value, default a newline.\n",
      "    flush: whether to forcibly flush the stream.\n",
      "\n"
     ]
    }
   ],
   "source": [
    "help(print)"
   ]
  },
  {
   "cell_type": "code",
   "execution_count": 2,
   "metadata": {
    "collapsed": false
   },
   "outputs": [
    {
     "name": "stdout",
     "output_type": "stream",
     "text": [
      "0 2 Hello, World\n"
     ]
    }
   ],
   "source": [
    "dict0 = dict()\n",
    "dict1 = {}\n",
    "dict2 = {'A':14, 'B':13}\n",
    "\n",
    "dict1['x'] = 'Hello, World'\n",
    "\n",
    "print(len(dict0), len(dict2), dict1['x'])"
   ]
  },
  {
   "cell_type": "code",
   "execution_count": null,
   "metadata": {
    "collapsed": true
   },
   "outputs": [],
   "source": []
  }
 ],
 "metadata": {
  "kernelspec": {
   "display_name": "Python 3",
   "language": "python",
   "name": "python3"
  },
  "language_info": {
   "codemirror_mode": {
    "name": "ipython",
    "version": 3
   },
   "file_extension": ".py",
   "mimetype": "text/x-python",
   "name": "python",
   "nbconvert_exporter": "python",
   "pygments_lexer": "ipython3",
   "version": "3.5.2"
  }
 },
 "nbformat": 4,
 "nbformat_minor": 1
}
